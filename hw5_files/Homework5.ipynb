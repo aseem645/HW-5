{
 "cells": [
  {
   "cell_type": "code",
   "execution_count": 1,
   "metadata": {},
   "outputs": [],
   "source": [
    "import re\n",
    "def process_youtube(USvideos_no_desc , USvideos_Output):\n",
    "    daily_counts = {}\n",
    "    re_filter = re.compile(r'(local|remote) - - \\(,28,\"[0-9]*-)/',re.I)\n",
    "    num_lines_matched = 0\n",
    "    num_lines_not_matched = 0\n",
    "    outputlines = ()\n",
    "    with open(USvideos_no_desc) as f:\n",
    "        for line in f:\n",
    "            line = str.rstrip(USvideos)\n",
    "            mfilter = re.match(rgx,line)\n",
    "            if mfilter:\n",
    "                num_lines_matched = num_lines_matched + 1\n",
    "                trending_date = m.group(1)\n",
    "\n",
    "                # Increment count by trending date\n",
    "                daily_counts[trending_date] = daily_counts.get(trending_date, 0) + 1\n",
    "                num_lines_matched >> outputlines\n",
    "            else:\n",
    "                # Increment number of lines not matched counter\n",
    "                num_lines_not_matched[''] = num_lines_not_matched + 1\n",
    "                for item in outputlines:\n",
    "                      print>>USvideos_Output, item\n",
    "                            # # Print out the counts dictionary\n",
    "    for num_lines_matched in daily_counts.values:\n",
    "        print (trending_date)\n",
    "\n",
    "    # All done, print the results\n",
    "    print(\"\\nNum lines matched --> {}\".values)\n",
    "    print(daily_counts)"
   ]
  },
  {
   "cell_type": "code",
   "execution_count": null,
   "metadata": {},
   "outputs": [],
   "source": []
  },
  {
   "cell_type": "code",
   "execution_count": null,
   "metadata": {},
   "outputs": [],
   "source": []
  }
 ],
 "metadata": {
  "kernelspec": {
   "display_name": "Python 3",
   "language": "python",
   "name": "python3"
  },
  "language_info": {
   "codemirror_mode": {
    "name": "ipython",
    "version": 3
   },
   "file_extension": ".py",
   "mimetype": "text/x-python",
   "name": "python",
   "nbconvert_exporter": "python",
   "pygments_lexer": "ipython3",
   "version": "3.5.4"
  }
 },
 "nbformat": 4,
 "nbformat_minor": 2
}
